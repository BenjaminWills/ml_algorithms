{
 "cells": [
  {
   "cell_type": "code",
   "execution_count": 27,
   "metadata": {},
   "outputs": [
    {
     "name": "stdout",
     "output_type": "stream",
     "text": [
      "\u001b[32m2023-08-20 23:58:51\u001b[0m \u001b[35mBens-MBP\u001b[0m \u001b[34mk_means[43982]\u001b[0m \u001b[1;30mINFO\u001b[0m Generating 10 random centroids\n",
      "\u001b[32m2023-08-20 23:58:51\u001b[0m \u001b[35mBens-MBP\u001b[0m \u001b[34mk_means[43982]\u001b[0m \u001b[1;30mINFO\u001b[0m \n",
      "Begin training algorithm with:\n",
      "Number of clusters : 10\n",
      "Max iterations     : 10\n",
      "100%|███████████████████████████████████████████| 10/10 [00:08<00:00,  1.22it/s]\n",
      "\u001b[32m2023-08-20 23:58:59\u001b[0m \u001b[35mBens-MBP\u001b[0m \u001b[34mk_means[43982]\u001b[0m \u001b[1;30mINFO\u001b[0m Algorithm terminated after 10 iterations.\n",
      "\u001b[32m2023-08-20 23:58:59\u001b[0m \u001b[35mBens-MBP\u001b[0m \u001b[34mk_means[43982]\u001b[0m \u001b[1;30mINFO\u001b[0m Saving weights to /Users/ben/Desktop/ml_algorithms/k_means_clustering/clusters.json\n"
     ]
    }
   ],
   "source": [
    "! python k_means.py --data_path encoded_customer.csv"
   ]
  },
  {
   "cell_type": "code",
   "execution_count": null,
   "metadata": {},
   "outputs": [],
   "source": []
  }
 ],
 "metadata": {
  "kernelspec": {
   "display_name": "Python 3.11.4 ('ml_algorithms')",
   "language": "python",
   "name": "python3"
  },
  "language_info": {
   "codemirror_mode": {
    "name": "ipython",
    "version": 3
   },
   "file_extension": ".py",
   "mimetype": "text/x-python",
   "name": "python",
   "nbconvert_exporter": "python",
   "pygments_lexer": "ipython3",
   "version": "3.11.4"
  },
  "orig_nbformat": 4,
  "vscode": {
   "interpreter": {
    "hash": "834117d9ec3369ed74ecb614fefd38b763531f54b96d7b01662cf313d861b113"
   }
  }
 },
 "nbformat": 4,
 "nbformat_minor": 2
}
