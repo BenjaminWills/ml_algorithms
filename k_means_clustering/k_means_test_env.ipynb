{
 "cells": [
  {
   "cell_type": "code",
   "execution_count": 1,
   "metadata": {},
   "outputs": [
    {
     "name": "stdout",
     "output_type": "stream",
     "text": [
      "\u001b[32m2023-08-22 23:31:42\u001b[0m \u001b[35mBens-MBP\u001b[0m \u001b[34mk_means[45851]\u001b[0m \u001b[1;30mINFO\u001b[0m Generating 10 random centroids\n",
      "\u001b[32m2023-08-22 23:31:42\u001b[0m \u001b[35mBens-MBP\u001b[0m \u001b[34mk_means[45851]\u001b[0m \u001b[1;30mINFO\u001b[0m \n",
      "Begin training algorithm with:\n",
      "Number of clusters : 10\n",
      "Max iterations     : 200\n",
      "  2%|▋                                          | 3/200 [00:04<04:52,  1.48s/it]\n",
      "\u001b[32m2023-08-22 23:31:47\u001b[0m \u001b[35mBens-MBP\u001b[0m \u001b[34mk_means[45851]\u001b[0m \u001b[1;30mINFO\u001b[0m Algorithm terminated after 4 iterations.\n",
      "\u001b[32m2023-08-22 23:31:47\u001b[0m \u001b[35mBens-MBP\u001b[0m \u001b[34mk_means[45851]\u001b[0m \u001b[1;30mINFO\u001b[0m MSE: 9,894.38\n",
      "\u001b[32m2023-08-22 23:31:47\u001b[0m \u001b[35mBens-MBP\u001b[0m \u001b[34mk_means[45851]\u001b[0m \u001b[1;30mINFO\u001b[0m Saving weights to /Users/ben/Desktop/ml_algorithms/k_means_clustering/clusters.json\n"
     ]
    }
   ],
   "source": [
    "! python k_means.py --data_path encoded_customer.csv --max_iterations 200"
   ]
  },
  {
   "cell_type": "code",
   "execution_count": null,
   "metadata": {},
   "outputs": [],
   "source": []
  }
 ],
 "metadata": {
  "kernelspec": {
   "display_name": "Python 3.11.4 ('ml_algorithms')",
   "language": "python",
   "name": "python3"
  },
  "language_info": {
   "codemirror_mode": {
    "name": "ipython",
    "version": 3
   },
   "file_extension": ".py",
   "mimetype": "text/x-python",
   "name": "python",
   "nbconvert_exporter": "python",
   "pygments_lexer": "ipython3",
   "version": "3.11.4"
  },
  "orig_nbformat": 4,
  "vscode": {
   "interpreter": {
    "hash": "834117d9ec3369ed74ecb614fefd38b763531f54b96d7b01662cf313d861b113"
   }
  }
 },
 "nbformat": 4,
 "nbformat_minor": 2
}
