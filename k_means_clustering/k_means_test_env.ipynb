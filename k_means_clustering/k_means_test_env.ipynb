{
 "cells": [
  {
   "cell_type": "markdown",
   "metadata": {},
   "source": [
    "# Command line example"
   ]
  },
  {
   "cell_type": "code",
   "execution_count": 1,
   "metadata": {},
   "outputs": [
    {
     "name": "stdout",
     "output_type": "stream",
     "text": [
      "\u001b[32m2023-08-22 23:40:08\u001b[0m \u001b[35mBens-MBP\u001b[0m \u001b[34mk_means[46182]\u001b[0m \u001b[1;30mINFO\u001b[0m Generating 25 random centroids\n",
      "\u001b[32m2023-08-22 23:40:08\u001b[0m \u001b[35mBens-MBP\u001b[0m \u001b[34mk_means[46182]\u001b[0m \u001b[1;30mINFO\u001b[0m \n",
      "Begin training algorithm with:\n",
      "Number of clusters : 25\n",
      "Max iterations     : 200\n",
      "  6%|██▌                                       | 12/200 [00:16<04:20,  1.39s/it]\n",
      "\u001b[32m2023-08-22 23:40:25\u001b[0m \u001b[35mBens-MBP\u001b[0m \u001b[34mk_means[46182]\u001b[0m \u001b[1;30mINFO\u001b[0m Algorithm terminated after 13 iterations.\n",
      "\u001b[32m2023-08-22 23:40:25\u001b[0m \u001b[35mBens-MBP\u001b[0m \u001b[34mk_means[46182]\u001b[0m \u001b[1;30mINFO\u001b[0m MSE: 8,352.36\n",
      "\u001b[32m2023-08-22 23:40:25\u001b[0m \u001b[35mBens-MBP\u001b[0m \u001b[34mk_means[46182]\u001b[0m \u001b[1;30mINFO\u001b[0m Saving weights to /Users/ben/Desktop/ml_algorithms/k_means_clustering/clusters.json\n"
     ]
    }
   ],
   "source": [
    "! python k_means.py --data_path customer.csv --max_iterations 200 --num_clusters 25 --encode_data \"yes\""
   ]
  },
  {
   "cell_type": "markdown",
   "metadata": {},
   "source": [
    "# Code example"
   ]
  },
  {
   "cell_type": "code",
   "execution_count": 7,
   "metadata": {},
   "outputs": [],
   "source": [
    "from k_means_clustering import K_means\n",
    "\n",
    "import pandas as pd\n",
    "import matplotlib.pyplot as plt\n",
    "import numpy as np"
   ]
  },
  {
   "cell_type": "code",
   "execution_count": 13,
   "metadata": {},
   "outputs": [
    {
     "name": "stderr",
     "output_type": "stream",
     "text": [
      "2023-08-22 23:55:03 Bens-MBP k_means[46169] INFO Generating 1 random centroids\n",
      "2023-08-22 23:55:03 Bens-MBP k_means[46169] INFO \n",
      "Begin training algorithm with:\n",
      "Number of clusters : 1\n",
      "Max iterations     : 2000\n",
      "  0%|          | 1/2000 [00:02<1:11:01,  2.13s/it]\n",
      "2023-08-22 23:55:06 Bens-MBP k_means[46169] INFO Algorithm terminated after 2 iterations.\n",
      "2023-08-22 23:55:06 Bens-MBP k_means[46169] INFO MSE: 27,600.39\n",
      "2023-08-22 23:55:06 Bens-MBP k_means[46169] INFO Saving weights to /Users/ben/Desktop/ml_algorithms/k_means_clustering/clusters.json\n",
      "2023-08-22 23:55:06 Bens-MBP k_means[46169] INFO Generating 2 random centroids\n",
      "2023-08-22 23:55:06 Bens-MBP k_means[46169] INFO \n",
      "Begin training algorithm with:\n",
      "Number of clusters : 2\n",
      "Max iterations     : 2000\n",
      "  0%|          | 4/2000 [00:05<44:43,  1.34s/it]\n",
      "2023-08-22 23:55:11 Bens-MBP k_means[46169] INFO Algorithm terminated after 5 iterations.\n",
      "2023-08-22 23:55:11 Bens-MBP k_means[46169] INFO MSE: 15,758.81\n",
      "2023-08-22 23:55:11 Bens-MBP k_means[46169] INFO Saving weights to /Users/ben/Desktop/ml_algorithms/k_means_clustering/clusters.json\n",
      "2023-08-22 23:55:11 Bens-MBP k_means[46169] INFO Generating 3 random centroids\n",
      "2023-08-22 23:55:11 Bens-MBP k_means[46169] INFO \n",
      "Begin training algorithm with:\n",
      "Number of clusters : 3\n",
      "Max iterations     : 2000\n",
      "  0%|          | 4/2000 [00:05<44:36,  1.34s/it]\n",
      "2023-08-22 23:55:17 Bens-MBP k_means[46169] INFO Algorithm terminated after 5 iterations.\n",
      "2023-08-22 23:55:17 Bens-MBP k_means[46169] INFO MSE: 15,774.52\n",
      "2023-08-22 23:55:17 Bens-MBP k_means[46169] INFO Saving weights to /Users/ben/Desktop/ml_algorithms/k_means_clustering/clusters.json\n",
      "2023-08-22 23:55:17 Bens-MBP k_means[46169] INFO Generating 4 random centroids\n",
      "2023-08-22 23:55:17 Bens-MBP k_means[46169] INFO \n",
      "Begin training algorithm with:\n",
      "Number of clusters : 4\n",
      "Max iterations     : 2000\n",
      "  0%|          | 3/2000 [00:04<46:28,  1.40s/it]\n",
      "2023-08-22 23:55:22 Bens-MBP k_means[46169] INFO Algorithm terminated after 4 iterations.\n",
      "2023-08-22 23:55:22 Bens-MBP k_means[46169] INFO MSE: 15,778.04\n",
      "2023-08-22 23:55:22 Bens-MBP k_means[46169] INFO Saving weights to /Users/ben/Desktop/ml_algorithms/k_means_clustering/clusters.json\n",
      "2023-08-22 23:55:22 Bens-MBP k_means[46169] INFO Generating 5 random centroids\n",
      "2023-08-22 23:55:22 Bens-MBP k_means[46169] INFO \n",
      "Begin training algorithm with:\n",
      "Number of clusters : 5\n",
      "Max iterations     : 2000\n",
      "  0%|          | 3/2000 [00:04<47:22,  1.42s/it]\n",
      "2023-08-22 23:55:26 Bens-MBP k_means[46169] INFO Algorithm terminated after 4 iterations.\n",
      "2023-08-22 23:55:26 Bens-MBP k_means[46169] INFO MSE: 10,437.78\n",
      "2023-08-22 23:55:26 Bens-MBP k_means[46169] INFO Saving weights to /Users/ben/Desktop/ml_algorithms/k_means_clustering/clusters.json\n",
      "2023-08-22 23:55:26 Bens-MBP k_means[46169] INFO Generating 6 random centroids\n",
      "2023-08-22 23:55:26 Bens-MBP k_means[46169] INFO \n",
      "Begin training algorithm with:\n",
      "Number of clusters : 6\n",
      "Max iterations     : 2000\n",
      "  0%|          | 5/2000 [00:06<44:04,  1.33s/it]\n",
      "2023-08-22 23:55:33 Bens-MBP k_means[46169] INFO Algorithm terminated after 6 iterations.\n",
      "2023-08-22 23:55:33 Bens-MBP k_means[46169] INFO MSE: 11,000.73\n",
      "2023-08-22 23:55:33 Bens-MBP k_means[46169] INFO Saving weights to /Users/ben/Desktop/ml_algorithms/k_means_clustering/clusters.json\n",
      "2023-08-22 23:55:33 Bens-MBP k_means[46169] INFO Generating 7 random centroids\n",
      "2023-08-22 23:55:33 Bens-MBP k_means[46169] INFO \n",
      "Begin training algorithm with:\n",
      "Number of clusters : 7\n",
      "Max iterations     : 2000\n",
      "  0%|          | 9/2000 [00:11<41:35,  1.25s/it]\n",
      "2023-08-22 23:55:45 Bens-MBP k_means[46169] INFO Algorithm terminated after 10 iterations.\n",
      "2023-08-22 23:55:45 Bens-MBP k_means[46169] INFO MSE: 9,117.32\n",
      "2023-08-22 23:55:45 Bens-MBP k_means[46169] INFO Saving weights to /Users/ben/Desktop/ml_algorithms/k_means_clustering/clusters.json\n",
      "2023-08-22 23:55:45 Bens-MBP k_means[46169] INFO Generating 8 random centroids\n",
      "2023-08-22 23:55:45 Bens-MBP k_means[46169] INFO \n",
      "Begin training algorithm with:\n",
      "Number of clusters : 8\n",
      "Max iterations     : 2000\n",
      "  0%|          | 3/2000 [00:04<50:34,  1.52s/it]\n",
      "2023-08-22 23:55:50 Bens-MBP k_means[46169] INFO Algorithm terminated after 4 iterations.\n",
      "2023-08-22 23:55:50 Bens-MBP k_means[46169] INFO MSE: 10,999.06\n",
      "2023-08-22 23:55:50 Bens-MBP k_means[46169] INFO Saving weights to /Users/ben/Desktop/ml_algorithms/k_means_clustering/clusters.json\n",
      "2023-08-22 23:55:50 Bens-MBP k_means[46169] INFO Generating 9 random centroids\n",
      "2023-08-22 23:55:50 Bens-MBP k_means[46169] INFO \n",
      "Begin training algorithm with:\n",
      "Number of clusters : 9\n",
      "Max iterations     : 2000\n",
      "  0%|          | 9/2000 [00:11<41:02,  1.24s/it]\n",
      "2023-08-22 23:56:01 Bens-MBP k_means[46169] INFO Algorithm terminated after 10 iterations.\n",
      "2023-08-22 23:56:01 Bens-MBP k_means[46169] INFO MSE: 9,002.98\n",
      "2023-08-22 23:56:01 Bens-MBP k_means[46169] INFO Saving weights to /Users/ben/Desktop/ml_algorithms/k_means_clustering/clusters.json\n",
      "2023-08-22 23:56:01 Bens-MBP k_means[46169] INFO Generating 10 random centroids\n",
      "2023-08-22 23:56:01 Bens-MBP k_means[46169] INFO \n",
      "Begin training algorithm with:\n",
      "Number of clusters : 10\n",
      "Max iterations     : 2000\n",
      "  0%|          | 10/2000 [00:12<40:57,  1.23s/it]\n",
      "2023-08-22 23:56:14 Bens-MBP k_means[46169] INFO Algorithm terminated after 11 iterations.\n",
      "2023-08-22 23:56:14 Bens-MBP k_means[46169] INFO MSE: 7,209.06\n",
      "2023-08-22 23:56:14 Bens-MBP k_means[46169] INFO Saving weights to /Users/ben/Desktop/ml_algorithms/k_means_clustering/clusters.json\n",
      "2023-08-22 23:56:14 Bens-MBP k_means[46169] INFO Generating 11 random centroids\n",
      "2023-08-22 23:56:14 Bens-MBP k_means[46169] INFO \n",
      "Begin training algorithm with:\n",
      "Number of clusters : 11\n",
      "Max iterations     : 2000\n",
      "  0%|          | 4/2000 [00:05<47:09,  1.42s/it]\n",
      "2023-08-22 23:56:20 Bens-MBP k_means[46169] INFO Algorithm terminated after 5 iterations.\n",
      "2023-08-22 23:56:20 Bens-MBP k_means[46169] INFO MSE: 7,753.99\n",
      "2023-08-22 23:56:20 Bens-MBP k_means[46169] INFO Saving weights to /Users/ben/Desktop/ml_algorithms/k_means_clustering/clusters.json\n",
      "2023-08-22 23:56:20 Bens-MBP k_means[46169] INFO Generating 12 random centroids\n",
      "2023-08-22 23:56:20 Bens-MBP k_means[46169] INFO \n",
      "Begin training algorithm with:\n",
      "Number of clusters : 12\n",
      "Max iterations     : 2000\n",
      "  1%|          | 11/2000 [00:13<41:34,  1.25s/it]\n",
      "2023-08-22 23:56:34 Bens-MBP k_means[46169] INFO Algorithm terminated after 12 iterations.\n",
      "2023-08-22 23:56:34 Bens-MBP k_means[46169] INFO MSE: 7,303.29\n",
      "2023-08-22 23:56:34 Bens-MBP k_means[46169] INFO Saving weights to /Users/ben/Desktop/ml_algorithms/k_means_clustering/clusters.json\n",
      "2023-08-22 23:56:34 Bens-MBP k_means[46169] INFO Generating 13 random centroids\n",
      "2023-08-22 23:56:34 Bens-MBP k_means[46169] INFO \n",
      "Begin training algorithm with:\n",
      "Number of clusters : 13\n",
      "Max iterations     : 2000\n",
      "  0%|          | 4/2000 [00:05<47:50,  1.44s/it]\n",
      "2023-08-22 23:56:40 Bens-MBP k_means[46169] INFO Algorithm terminated after 5 iterations.\n",
      "2023-08-22 23:56:40 Bens-MBP k_means[46169] INFO MSE: 10,392.45\n",
      "2023-08-22 23:56:40 Bens-MBP k_means[46169] INFO Saving weights to /Users/ben/Desktop/ml_algorithms/k_means_clustering/clusters.json\n",
      "2023-08-22 23:56:40 Bens-MBP k_means[46169] INFO Generating 14 random centroids\n",
      "2023-08-22 23:56:40 Bens-MBP k_means[46169] INFO \n",
      "Begin training algorithm with:\n",
      "Number of clusters : 14\n",
      "Max iterations     : 2000\n",
      "  2%|▏         | 34/2000 [00:40<39:19,  1.20s/it]\n",
      "2023-08-22 23:57:21 Bens-MBP k_means[46169] INFO Algorithm terminated after 35 iterations.\n",
      "2023-08-22 23:57:21 Bens-MBP k_means[46169] INFO MSE: 8,070.58\n",
      "2023-08-22 23:57:21 Bens-MBP k_means[46169] INFO Saving weights to /Users/ben/Desktop/ml_algorithms/k_means_clustering/clusters.json\n",
      "2023-08-22 23:57:21 Bens-MBP k_means[46169] INFO Generating 9 random centroids\n",
      "2023-08-22 23:57:21 Bens-MBP k_means[46169] INFO \n",
      "Begin training algorithm with:\n",
      "Number of clusters : 9\n",
      "Max iterations     : 2000\n",
      "  1%|          | 15/2000 [00:17<38:59,  1.18s/it]\n",
      "2023-08-22 23:57:39 Bens-MBP k_means[46169] INFO Algorithm terminated after 16 iterations.\n",
      "2023-08-22 23:57:39 Bens-MBP k_means[46169] INFO MSE: 11,056.11\n",
      "2023-08-22 23:57:39 Bens-MBP k_means[46169] INFO Saving weights to /Users/ben/Desktop/ml_algorithms/k_means_clustering/clusters.json\n"
     ]
    }
   ],
   "source": [
    "wcss = []\n",
    "for num_clusters in range(1,15):\n",
    "    k_means = K_means(\n",
    "        num_clusters=num_clusters,\n",
    "        data=pd.read_csv(\"encoded_customer.csv\"),\n",
    "        max_iterations=2_000,\n",
    "        relative_tolerance=0.05,\n",
    "    )\n",
    "    wcss.append(k_means.mse)\n",
    "best_clusters = np.array(wcss).argmin()\n",
    "k_means = K_means(\n",
    "        num_clusters=best_clusters,\n",
    "        data=pd.read_csv(\"encoded_customer.csv\"),\n",
    "        max_iterations=2_000,\n",
    "        relative_tolerance=0.05,\n",
    "    )"
   ]
  },
  {
   "cell_type": "code",
   "execution_count": 14,
   "metadata": {},
   "outputs": [
    {
     "data": {
      "text/plain": [
       "[<matplotlib.lines.Line2D at 0x11ddba8d0>]"
      ]
     },
     "execution_count": 14,
     "metadata": {},
     "output_type": "execute_result"
    },
    {
     "data": {
      "image/png": "[encoded data removed]",
      "text/plain": [
       "<Figure size 640x480 with 1 Axes>"
      ]
     },
     "metadata": {},
     "output_type": "display_data"
    }
   ],
   "source": [
    "plt.plot(wcss)"
   ]
  },
  {
   "cell_type": "code",
   "execution_count": null,
   "metadata": {},
   "outputs": [],
   "source": []
  }
 ],
 "metadata": {
  "kernelspec": {
   "display_name": "Python 3.11.4 ('ml_algorithms')",
   "language": "python",
   "name": "python3"
  },
  "language_info": {
   "codemirror_mode": {
    "name": "ipython",
    "version": 3
   },
   "file_extension": ".py",
   "mimetype": "text/x-python",
   "name": "python",
   "nbconvert_exporter": "python",
   "pygments_lexer": "ipython3",
   "version": "3.11.4"
  },
  "orig_nbformat": 4,
  "vscode": {
   "interpreter": {
    "hash": "834117d9ec3369ed74ecb614fefd38b763531f54b96d7b01662cf313d861b113"
   }
  }
 },
 "nbformat": 4,
 "nbformat_minor": 2
}
